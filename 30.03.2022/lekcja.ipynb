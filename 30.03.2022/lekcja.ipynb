{
  "nbformat": 4,
  "nbformat_minor": 0,
  "metadata": {
    "colab": {
      "name": "Untitled3.ipynb",
      "provenance": [],
      "authorship_tag": "ABX9TyNXIlyfTRGggZIB7tZEuQE2",
      "include_colab_link": true
    },
    "kernelspec": {
      "name": "python3",
      "display_name": "Python 3"
    },
    "language_info": {
      "name": "python"
    }
  },
  "cells": [
    {
      "cell_type": "markdown",
      "metadata": {
        "id": "view-in-github",
        "colab_type": "text"
      },
      "source": [
        "<a href=\"https://colab.research.google.com/github/wojtek2kdev/Obliczenia_naukowe/blob/main/30.03.2022/lekcja.ipynb\" target=\"_parent\"><img src=\"https://colab.research.google.com/assets/colab-badge.svg\" alt=\"Open In Colab\"/></a>"
      ]
    },
    {
      "cell_type": "code",
      "execution_count": 13,
      "metadata": {
        "colab": {
          "base_uri": "https://localhost:8080/"
        },
        "id": "vLQrV-NsYa69",
        "outputId": "e1a037c5-dd8f-4bce-e4a3-c4c0dac24d13"
      },
      "outputs": [
        {
          "output_type": "stream",
          "name": "stdout",
          "text": [
            "The slowest run took 7.29 times longer than the fastest. This could mean that an intermediate result is being cached.\n",
            "10000 loops, best of 5: 35.6 µs per loop\n"
          ]
        },
        {
          "output_type": "execute_result",
          "data": {
            "text/plain": [
              "(22.446219845395106+0j)"
            ]
          },
          "metadata": {},
          "execution_count": 13
        }
      ],
      "source": [
        "import numpy as np\n",
        "\n",
        "A = np.random.randint(10, size=(5,5))\n",
        "%timeit eig_val, eig_vec = np.linalg.eig(A)\n",
        "np.max(eig_val)"
      ]
    },
    {
      "cell_type": "code",
      "source": [
        "import numpy as np \n",
        "from numpy.linalg import inv, eigvals\n",
        "\n",
        "A = np.array([[1,0],[0,2]])\n",
        "B = np.array([[3,1],[1,2]])\n",
        "\n",
        "C = B @ A @ inv(B)\n",
        "eigvals(C)\n"
      ],
      "metadata": {
        "colab": {
          "base_uri": "https://localhost:8080/"
        },
        "id": "mFf2bDwlbbQf",
        "outputId": "b3aa34f2-deaf-4213-ffcd-673a0a51f55c"
      },
      "execution_count": 16,
      "outputs": [
        {
          "output_type": "execute_result",
          "data": {
            "text/plain": [
              "array([1., 2.])"
            ]
          },
          "metadata": {},
          "execution_count": 16
        }
      ]
    },
    {
      "cell_type": "code",
      "source": [
        "import numpy as np\n",
        "\n",
        "A = np.random.randint(10, size=(5,5))\n",
        "O1, D, O2 = np.linalg.svd(A)\n",
        "B = O1 @ np.diag(D) @ O2"
      ],
      "metadata": {
        "id": "Ci_b9B7vdF_H"
      },
      "execution_count": 26,
      "outputs": []
    },
    {
      "cell_type": "code",
      "source": [
        "import numpy as np\n",
        "\n",
        "A = np.random.randint(10, size=(5,5))\n",
        "np.linalg.qr(A)"
      ],
      "metadata": {
        "colab": {
          "base_uri": "https://localhost:8080/"
        },
        "id": "Mz_-o5zieo8v",
        "outputId": "204772ce-a413-4684-f21e-b798fd466c8f"
      },
      "execution_count": 27,
      "outputs": [
        {
          "output_type": "execute_result",
          "data": {
            "text/plain": [
              "(array([[-0.70064905,  0.52656816,  0.1344216 ,  0.4512845 ,  0.10044907],\n",
              "        [-0.38924947, -0.14133852,  0.09395842, -0.61524516,  0.66419386],\n",
              "        [-0.23354968, -0.80069914,  0.03493443,  0.52293663,  0.17219841],\n",
              "        [-0.54494926, -0.24126156, -0.11504059, -0.37424151, -0.70109352],\n",
              "        [-0.07784989,  0.05850757, -0.97910566,  0.06554591,  0.16604846]]),\n",
              " array([[-12.84523258,  -6.9286406 ,  -5.91659198,  -6.69509092,\n",
              "         -11.67748416],\n",
              "        [  0.        ,  -9.21921577,  -0.97687925,   2.10298568,\n",
              "          -4.56556286],\n",
              "        [  0.        ,   0.        ,  -4.69464017,  -7.33650304,\n",
              "          -5.84689908],\n",
              "        [  0.        ,   0.        ,   0.        ,   2.63228645,\n",
              "           2.47834057],\n",
              "        [  0.        ,   0.        ,   0.        ,   0.        ,\n",
              "           8.85796809]]))"
            ]
          },
          "metadata": {},
          "execution_count": 27
        }
      ]
    },
    {
      "cell_type": "code",
      "source": [
        "import numpy as np\n",
        "\n",
        "A = np.array([[1,2,3,1,2,1,0,1,0]]).reshape(3,3)\n",
        "O1, D, O2 = np.linalg.svd(A)\n",
        "eig_val, eig_vec = np.linalg.eig(A)\n",
        "\n",
        "B = A[:2]\n",
        "SVD = np.linalg.svd(B)\n",
        "C = SVD[0] @ np.concatenate((np.diag(SVD[1]), np.zeros((2,1))), axis=1) @ SVD[2]\n",
        "C"
      ],
      "metadata": {
        "colab": {
          "base_uri": "https://localhost:8080/"
        },
        "id": "3hqeqKB-fAr2",
        "outputId": "40ada360-c1db-499e-e3fc-4827551a1211"
      },
      "execution_count": 52,
      "outputs": [
        {
          "output_type": "execute_result",
          "data": {
            "text/plain": [
              "array([[1., 2., 3.],\n",
              "       [1., 2., 1.]])"
            ]
          },
          "metadata": {},
          "execution_count": 52
        }
      ]
    },
    {
      "cell_type": "code",
      "source": [
        "import numpy as np\n",
        "\n",
        "A = np.array([[1,2,3,1,2,1,0,1,0]]).reshape(3,3)\n",
        "J, P = np.linalg.eig(A)\n",
        "\n",
        "B = P @ np.diag(J)**20 @ np.linalg.inv(P)\n"
      ],
      "metadata": {
        "colab": {
          "base_uri": "https://localhost:8080/"
        },
        "id": "FUxpQMEcjKkW",
        "outputId": "9d8c5df6-1bdb-4bc2-8d70-a1eeaf436276"
      },
      "execution_count": 64,
      "outputs": [
        {
          "output_type": "execute_result",
          "data": {
            "text/plain": [
              "array([[1.69689090e+10-1.64637822e-06j, 4.16871511e+10+3.29275644e-06j,\n",
              "        2.67869523e+10+7.78525577e-20j],\n",
              "       [1.45358507e+10-1.41031507e-06j, 3.57099096e+10+2.82063013e-06j,\n",
              "        2.29461505e+10-8.64595148e-21j],\n",
              "       [4.20514992e+09-4.07997195e-07j, 1.03307007e+10+8.15994389e-07j,\n",
              "        6.63820820e+09+4.10216869e-20j]])"
            ]
          },
          "metadata": {},
          "execution_count": 64
        }
      ]
    },
    {
      "cell_type": "code",
      "source": [
        "import numpy as np\n",
        "\n",
        "A = np.array([[1,2,3,1,2,1,0,1,0]]).reshape(3,3)\n",
        "np.linalg.cond(A)"
      ],
      "metadata": {
        "colab": {
          "base_uri": "https://localhost:8080/"
        },
        "id": "nlBArEr9mkWT",
        "outputId": "7c6332f9-de09-4609-ae81-ff2738c1c2e9"
      },
      "execution_count": 66,
      "outputs": [
        {
          "output_type": "execute_result",
          "data": {
            "text/plain": [
              "11.87432495287239"
            ]
          },
          "metadata": {},
          "execution_count": 66
        }
      ]
    },
    {
      "cell_type": "code",
      "source": [
        "import numpy as np\n",
        "\n",
        "A = np.array([[1,0,2,3,2,1,1,1,1]]).reshape(3,3)\n",
        "\n",
        "b1 = np.array([[20.001, -9.9999, 100.00001]]).reshape(-1,1)\n",
        "\n",
        "b2 = np.array([[20,-10,100]]).reshape(-1,1)\n",
        "\n",
        "print(np.linalg.cond(A), np.linalg.solve(A, b1), np.linalg.solve(A, b2), sep=\"\\n\\n\")"
      ],
      "metadata": {
        "colab": {
          "base_uri": "https://localhost:8080/"
        },
        "id": "xn_39_ITnWvD",
        "outputId": "ea715120-1401-416f-ebab-59f141308c6d"
      },
      "execution_count": 72,
      "outputs": [
        {
          "output_type": "stream",
          "name": "stdout",
          "text": [
            "10.617346008950063\n",
            "\n",
            "[[-133.33294667]\n",
            " [ 156.66598333]\n",
            " [  76.66697333]]\n",
            "\n",
            "[[-133.33333333]\n",
            " [ 156.66666667]\n",
            " [  76.66666667]]\n"
          ]
        }
      ]
    },
    {
      "cell_type": "code",
      "source": [
        ""
      ],
      "metadata": {
        "id": "b2T0Q3mxoA55"
      },
      "execution_count": null,
      "outputs": []
    }
  ]
}