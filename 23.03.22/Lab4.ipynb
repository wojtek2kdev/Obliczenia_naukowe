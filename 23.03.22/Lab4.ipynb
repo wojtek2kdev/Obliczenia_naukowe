{
  "nbformat": 4,
  "nbformat_minor": 0,
  "metadata": {
    "colab": {
      "name": "ON-lab4-live.ipynb",
      "provenance": []
    },
    "kernelspec": {
      "name": "python3",
      "display_name": "Python 3"
    },
    "language_info": {
      "name": "python"
    }
  },
  "cells": [
    {
      "cell_type": "markdown",
      "source": [
        "# Laboratorium "
      ],
      "metadata": {
        "id": "8guPCTNIWWWj"
      }
    },
    {
      "cell_type": "markdown",
      "source": [
        "#### Zadanie 1\n",
        "Napisz metodę, która oblicza pole między osią OX a wykresem funkcji na danym przedziale za pomocą sum Riemanna (przybliżeń prostokątami). Sprawdź jej działanie na wybranej przez siebie funkcji porównując z wynikiem całkownia symbolicznego. \n",
        "\n",
        "Korzystając z symbolicznych pochodnych i szukania ekstremów dobierz takie parametry do swojej funkcji, aby błąd całkowania był mniejszy niż $10^{-5}$.\n"
      ],
      "metadata": {
        "id": "GjTceg1Pa0Yq"
      }
    },
    {
      "cell_type": "code",
      "source": [
        "import numpy as np\n",
        "\n",
        "from sympy import symbols, diff, solve, integrate\n",
        "from functools import partial\n",
        "from math import ceil\n",
        "\n",
        "def integration(f,a,b,N):\n",
        "  P = np.linspace(a,b,N)[:-1]\n",
        "  dx = (b-a)/(N-1)\n",
        "  return sum(dx*f(x_k) for x_k in P)\n",
        "\n",
        "def area(f,a,b,bias):\n",
        "  N = estimate_n(f,a,b,bias)\n",
        "  return integration(lambda x: abs(f(x)),a,b,N)\n",
        "\n",
        "def abs_sup(f,a,b):\n",
        "  potential_points = solve(diff(f))\n",
        "  return max(map(abs, map(partial(f.subs, x), potential_points+[a,b])))\n",
        "\n",
        "def estimate_n(f,a,b,bias):\n",
        "  x, N = symbols(\"x N\")\n",
        "  M = abs_sup(diff(f(x)),a,b)\n",
        "  _N = float(solve(((b-a)**2)*M/(2*N) - bias, N)[0])\n",
        "  return ceil(_N)+1\n",
        "\n",
        "f = lambda x0: (x0-1)*(x0/2-3)\n",
        "a, b, bias = 1, 4, 10**(-5)\n",
        "x = symbols(\"x\")\n",
        "\n",
        "I1 = area(f,a,b,bias)\n",
        "I2 = integrate(abs(f(x)), (x,a,b))\n",
        "\n",
        "e = abs(I2-I1)\n",
        "\n",
        "print(f\"\"\"\n",
        "Pole między osią OX a funkcją f:\n",
        " - numerycznie: {I1}\n",
        " - symbolicznie: {I2.evalf()}\n",
        "\"\"\")\n",
        "print(f\"Błąd całkowania: {e}\")\n",
        "print(f\"Błąd jest {'' if e < bias else 'nie'}mniejszy niż {bias}\")\n"
      ],
      "metadata": {
        "id": "LeNtvPNXa1lG",
        "colab": {
          "base_uri": "https://localhost:8080/"
        },
        "outputId": "ff146718-d468-4c98-b64b-c7e1348a46a2"
      },
      "execution_count": null,
      "outputs": [
        {
          "output_type": "stream",
          "name": "stdout",
          "text": [
            "\n",
            "Pole między osią OX a funkcją f:\n",
            " - numerycznie: 6.749995999998168\n",
            " - symbolicznie: 6.75000000000000\n",
            "\n",
            "Błąd całkowania: 0.00000400000183198301\n",
            "Błąd jest mniejszy niż 1e-05\n"
          ]
        }
      ]
    },
    {
      "cell_type": "markdown",
      "source": [
        "#### Zadanie 2\n",
        "a) Zaimplementuj w postaci funkcji algorytm obliczania pierwiastka kwadratowego z $x>0$ z wykorzystaniem algorytmu Herona. Funkcja powinna przyjmować jako argumenty liczby: $x$, punkt startowy $x_0$ oraz liczbę kroków (wyrazów ciągu do obliczenia).\n",
        "\n",
        "b) Następnie, dodaj argument show_step (domyślnie ustawiony jako False), który będzie pozwalał wyświetlać kolejne kroki przybliżenia aż do zadanego.\n",
        "\n",
        "c) Na bazie a) stwórz nową funkcję, która wykona odpowiednią liczbę kroków by przybliżenie miało podaną dokładność"
      ],
      "metadata": {
        "id": "lifT1qX3a19e"
      }
    },
    {
      "cell_type": "code",
      "source": [
        "from functools import reduce\n",
        "from itertools import count\n",
        "\n",
        "def _root(x, x0, k, show_step=False):\n",
        "  def x_next(x_k, step):\n",
        "    _x = (1/2)*(x_k + x/x_k)\n",
        "    if show_step:\n",
        "      print(f\"Krok {step}: {_x}\")\n",
        "    return _x\n",
        "  return reduce(x_next, range(1, k+1), x0)\n",
        "\n",
        "def root(x, bias=0.01):\n",
        "  if x <= 0:\n",
        "    raise ValueError(\"x has to be positive real number.\")\n",
        "  x_ = lambda k: _root(x,x,k)\n",
        "  d = lambda x_k: (1/2)*(-x_k + x/(x_k))\n",
        "  bias_criterion = lambda x_k: abs(d(x_k)) < bias\n",
        "  return next(x_(k) for k in count(1) if bias_criterion(x_(k)))\n",
        "\n",
        "print(f\"Pierwiastek z 9 to: {_root(9, 1, 5, show_step=True)}\")\n",
        "print(f\"Pierwiastek z 123456789 z dokładnością do 10**(-7): {root(123456789,bias=10**(-7))}\")"
      ],
      "metadata": {
        "id": "J9ezM3OYa6dM",
        "colab": {
          "base_uri": "https://localhost:8080/"
        },
        "outputId": "8f32963f-531f-40e3-e608-e7df0a766349"
      },
      "execution_count": null,
      "outputs": [
        {
          "output_type": "stream",
          "name": "stdout",
          "text": [
            "Krok 1: 5.0\n",
            "Krok 2: 3.4\n",
            "Krok 3: 3.023529411764706\n",
            "Krok 4: 3.00009155413138\n",
            "Krok 5: 3.000000001396984\n",
            "Pierwiastek z 9 to: 3.000000001396984\n",
            "Pierwiastek z 123456789 z dokładnością do 10**(-7): 11111.111060555555\n"
          ]
        }
      ]
    },
    {
      "cell_type": "markdown",
      "source": [
        "# NumPy\n",
        "\n",
        "np.ndarray (N-dimensional array)\n",
        "\n",
        "Najważniejsze atrybuty:\n",
        "* shape\n",
        "* ndim\n",
        "* size\n",
        "* dtype (int,float,bool,complex)\n",
        "* nbytes\n"
      ],
      "metadata": {
        "id": "eXGnYtina6wf"
      }
    },
    {
      "cell_type": "code",
      "source": [
        "tab=np.array([[1,2],[3,4],[4,1]])"
      ],
      "metadata": {
        "id": "0Dltuhwva_gN"
      },
      "execution_count": null,
      "outputs": []
    },
    {
      "cell_type": "code",
      "source": [
        "tab.nbytes"
      ],
      "metadata": {
        "colab": {
          "base_uri": "https://localhost:8080/"
        },
        "id": "FjxTxSyOa_iu",
        "outputId": "6d704bd3-cd3e-4407-a424-c8b021070ec2"
      },
      "execution_count": null,
      "outputs": [
        {
          "output_type": "execute_result",
          "data": {
            "text/plain": [
              "48"
            ]
          },
          "metadata": {},
          "execution_count": 11
        }
      ]
    },
    {
      "cell_type": "code",
      "source": [
        ""
      ],
      "metadata": {
        "id": "w0LsA57Fpc8P"
      },
      "execution_count": null,
      "outputs": []
    },
    {
      "cell_type": "code",
      "source": [
        ""
      ],
      "metadata": {
        "id": "wd_TqjE2a_lT"
      },
      "execution_count": null,
      "outputs": []
    },
    {
      "cell_type": "markdown",
      "source": [
        "#### Zadanie 3\n",
        "\n",
        "Stwórz dowolną tablicę liczb całkowitych ndarray z zagnieżdżonej listy. Sprawdź jej różne atrybuty. Spróbuj zamienić wszystkie liczby całkowite na zmiennoprzecinkowe."
      ],
      "metadata": {
        "id": "Sqbettf7a_vl"
      }
    },
    {
      "cell_type": "code",
      "source": [
        "tab2=np.array(tab,dtype=float)"
      ],
      "metadata": {
        "id": "njXHIMDNbC-5"
      },
      "execution_count": null,
      "outputs": []
    },
    {
      "cell_type": "code",
      "source": [
        "tab2"
      ],
      "metadata": {
        "colab": {
          "base_uri": "https://localhost:8080/"
        },
        "id": "lP_lPC0HbDHa",
        "outputId": "ea037007-a15c-4dd2-8238-eca0f7d07685"
      },
      "execution_count": null,
      "outputs": [
        {
          "output_type": "execute_result",
          "data": {
            "text/plain": [
              "array([[1., 2.],\n",
              "       [3., 4.],\n",
              "       [4., 1.]])"
            ]
          },
          "metadata": {},
          "execution_count": 13
        }
      ]
    },
    {
      "cell_type": "code",
      "source": [
        "tab3=np.array([-1,0,1])"
      ],
      "metadata": {
        "id": "lBWc4REfbDM9"
      },
      "execution_count": null,
      "outputs": []
    },
    {
      "cell_type": "code",
      "source": [
        "np.sqrt(tab3)"
      ],
      "metadata": {
        "colab": {
          "base_uri": "https://localhost:8080/"
        },
        "id": "mVfCh49DbDPu",
        "outputId": "02d9d736-8df8-4c66-ab6d-5f8296074a36"
      },
      "execution_count": null,
      "outputs": [
        {
          "output_type": "stream",
          "name": "stderr",
          "text": [
            "/usr/local/lib/python3.7/dist-packages/ipykernel_launcher.py:1: RuntimeWarning: invalid value encountered in sqrt\n",
            "  \"\"\"Entry point for launching an IPython kernel.\n"
          ]
        },
        {
          "output_type": "execute_result",
          "data": {
            "text/plain": [
              "array([nan,  0.,  1.])"
            ]
          },
          "metadata": {},
          "execution_count": 15
        }
      ]
    },
    {
      "cell_type": "code",
      "source": [
        "tab4=tab3.astype(complex)\n",
        "tab4\n",
        "np.sqrt(tab4).imag"
      ],
      "metadata": {
        "colab": {
          "base_uri": "https://localhost:8080/"
        },
        "id": "VkHzYMQGq3_i",
        "outputId": "c4c41319-1da5-4f8e-87bd-41a083c8813e"
      },
      "execution_count": null,
      "outputs": [
        {
          "output_type": "execute_result",
          "data": {
            "text/plain": [
              "array([1., 0., 0.])"
            ]
          },
          "metadata": {},
          "execution_count": 19
        }
      ]
    },
    {
      "cell_type": "markdown",
      "source": [
        "### Konstruktory:\n",
        "* np.array - tworzy z różnych tablicopodobnych typów\n",
        "* np.zeros - same zera\n",
        "* np.ones - same jedynki\n",
        "* np.eye - macierz identycznościowa\n",
        "* np.diag - macierz z elementami na przekątnej\n",
        "\n",
        "* **!** np.linspace(start,koniec (domknięty),liczba elementów)\n",
        "* **!** np.arange(start,koniec (otwarty),krok)\n",
        "* np.meshgrid - tworzy siatkę punktów z pojedynczych wektorów) - zwraca tablice poszczególnych współrzędnych\n",
        "\n",
        "from scipy.linalg import block_diag"
      ],
      "metadata": {
        "id": "KoXWs5OxbDYG"
      }
    },
    {
      "cell_type": "code",
      "source": [
        "np.zeros((3,3))"
      ],
      "metadata": {
        "colab": {
          "base_uri": "https://localhost:8080/"
        },
        "id": "wdlAhUswbNqu",
        "outputId": "cbcd2c7e-8ee0-4140-a352-f0f1b8f039d8"
      },
      "execution_count": null,
      "outputs": [
        {
          "output_type": "execute_result",
          "data": {
            "text/plain": [
              "array([[0., 0., 0.],\n",
              "       [0., 0., 0.],\n",
              "       [0., 0., 0.]])"
            ]
          },
          "metadata": {},
          "execution_count": 22
        }
      ]
    },
    {
      "cell_type": "code",
      "source": [
        "np.meshgrid([1,2,3],['a','b','c'])"
      ],
      "metadata": {
        "colab": {
          "base_uri": "https://localhost:8080/"
        },
        "id": "mdplm_EAbNth",
        "outputId": "5f3df1f3-0e08-47c0-bd0b-88e7bca094b3"
      },
      "execution_count": null,
      "outputs": [
        {
          "output_type": "execute_result",
          "data": {
            "text/plain": [
              "[array([[1, 2, 3],\n",
              "        [1, 2, 3],\n",
              "        [1, 2, 3]]), array([['a', 'a', 'a'],\n",
              "        ['b', 'b', 'b'],\n",
              "        ['c', 'c', 'c']], dtype='<U1')]"
            ]
          },
          "metadata": {},
          "execution_count": 23
        }
      ]
    },
    {
      "cell_type": "code",
      "source": [
        ""
      ],
      "metadata": {
        "id": "0_omjkT5bNvQ"
      },
      "execution_count": null,
      "outputs": []
    },
    {
      "cell_type": "code",
      "source": [
        ""
      ],
      "metadata": {
        "id": "VPpiItAXbNxq"
      },
      "execution_count": null,
      "outputs": []
    },
    {
      "cell_type": "markdown",
      "source": [
        "#### Zadanie 4\n",
        "Skonstruuj macierz:\n",
        "$$\n",
        "Mat1=\\begin{bmatrix}\n",
        "1 &1 &0&0&0&0&0\\\\\n",
        "1&1&0&0&0&0&0\\\\\n",
        "0&0&0&0&0&0&0 \\\\\n",
        "0&0&0&0&0&0&0 \\\\\n",
        "0&0&0&0&3&0&0 \\\\\n",
        "0&0&0&0&0&2&4 \\\\\n",
        "0&0&0&0&0&4&2 \\\\\n",
        "\\end{bmatrix}\n",
        "$$"
      ],
      "metadata": {
        "id": "z3gAwg2MbN-i"
      }
    },
    {
      "cell_type": "code",
      "source": [
        "import numpy as np\n",
        "from scipy.linalg import block_diag\n",
        "Mat1=block_diag(np.ones((2,2)),np.zeros((2,2)),3,(4*np.ones((2,2))-2*np.eye(2)))\n",
        "Mat1[:2,:2]"
      ],
      "metadata": {
        "colab": {
          "base_uri": "https://localhost:8080/"
        },
        "id": "t4byIDxebQVb",
        "outputId": "936098f9-ede9-4194-9271-e567c2cbe7f1"
      },
      "execution_count": 4,
      "outputs": [
        {
          "output_type": "execute_result",
          "data": {
            "text/plain": [
              "array([[1., 1., 0., 0., 0., 0., 0.],\n",
              "       [1., 1., 0., 0., 0., 0., 0.],\n",
              "       [0., 0., 0., 0., 0., 0., 0.],\n",
              "       [0., 0., 0., 0., 0., 0., 0.],\n",
              "       [0., 0., 0., 0., 3., 0., 0.],\n",
              "       [0., 0., 0., 0., 0., 2., 4.],\n",
              "       [0., 0., 0., 0., 0., 4., 2.]])"
            ]
          },
          "metadata": {},
          "execution_count": 4
        }
      ]
    },
    {
      "cell_type": "code",
      "source": [
        "Mat1[0,0]=3"
      ],
      "metadata": {
        "id": "3N0RVAPbbQYw"
      },
      "execution_count": null,
      "outputs": []
    },
    {
      "cell_type": "code",
      "source": [
        "Mat1"
      ],
      "metadata": {
        "colab": {
          "base_uri": "https://localhost:8080/"
        },
        "id": "L642lhZRbQcD",
        "outputId": "8fe70ad6-47e5-45df-88cc-495344db5064"
      },
      "execution_count": null,
      "outputs": [
        {
          "output_type": "execute_result",
          "data": {
            "text/plain": [
              "array([[3., 1., 0., 0., 0., 0., 0.],\n",
              "       [1., 1., 0., 0., 0., 0., 0.],\n",
              "       [0., 0., 0., 0., 0., 0., 0.],\n",
              "       [0., 0., 0., 0., 0., 0., 0.],\n",
              "       [0., 0., 0., 0., 3., 0., 0.],\n",
              "       [0., 0., 0., 0., 0., 2., 4.],\n",
              "       [0., 0., 0., 0., 0., 4., 2.]])"
            ]
          },
          "metadata": {},
          "execution_count": 31
        }
      ]
    },
    {
      "cell_type": "code",
      "source": [
        "Mat1[:,::-1]"
      ],
      "metadata": {
        "colab": {
          "base_uri": "https://localhost:8080/"
        },
        "id": "hRahjYIDbQec",
        "outputId": "2d8484d7-7448-4237-ccbf-99f31d295d9d"
      },
      "execution_count": null,
      "outputs": [
        {
          "output_type": "execute_result",
          "data": {
            "text/plain": [
              "array([[0., 0., 0., 0., 0., 1., 3.],\n",
              "       [0., 0., 0., 0., 0., 1., 1.],\n",
              "       [0., 0., 0., 0., 0., 0., 0.],\n",
              "       [0., 0., 0., 0., 0., 0., 0.],\n",
              "       [0., 0., 3., 0., 0., 0., 0.],\n",
              "       [4., 2., 0., 0., 0., 0., 0.],\n",
              "       [2., 4., 0., 0., 0., 0., 0.]])"
            ]
          },
          "metadata": {},
          "execution_count": 35
        }
      ]
    },
    {
      "cell_type": "markdown",
      "source": [
        "#### Zadanie 5\n",
        "W macierzy Mat1 zamień miejscami lewy górny narożnik 4X4 z prawym dolnym 3x3 (nazwij wynik Mat2)\n",
        "\n",
        "#### Zadanie 6\n",
        "Stwórz macierz Mat3, która będzie zawierała tylko elementy z Mat2 o obu parzystych współrzędnych."
      ],
      "metadata": {
        "id": "5nn8LWwabRAh"
      }
    },
    {
      "cell_type": "code",
      "source": [
        "Mat1[:4,:4]"
      ],
      "metadata": {
        "colab": {
          "base_uri": "https://localhost:8080/"
        },
        "id": "3KpJTYIObTkO",
        "outputId": "fee61b9f-ed68-4231-b4e9-10162a899e40"
      },
      "execution_count": null,
      "outputs": [
        {
          "output_type": "execute_result",
          "data": {
            "text/plain": [
              "array([[3., 1., 0., 0.],\n",
              "       [1., 1., 0., 0.],\n",
              "       [0., 0., 0., 0.],\n",
              "       [0., 0., 0., 0.]])"
            ]
          },
          "metadata": {},
          "execution_count": 38
        }
      ]
    },
    {
      "cell_type": "code",
      "source": [
        "Mat1[-3:,-3:]"
      ],
      "metadata": {
        "colab": {
          "base_uri": "https://localhost:8080/"
        },
        "id": "rXmaet2GbTmu",
        "outputId": "8be63beb-9202-4b64-a2d1-5f86712c2240"
      },
      "execution_count": null,
      "outputs": [
        {
          "output_type": "execute_result",
          "data": {
            "text/plain": [
              "array([[3., 0., 0.],\n",
              "       [0., 2., 4.],\n",
              "       [0., 4., 2.]])"
            ]
          },
          "metadata": {},
          "execution_count": 37
        }
      ]
    },
    {
      "cell_type": "code",
      "source": [
        "Mat2=block_diag(Mat1[-3:,-3:],Mat1[:4,:4])"
      ],
      "metadata": {
        "id": "gW0I7TvmbTpG"
      },
      "execution_count": null,
      "outputs": []
    },
    {
      "cell_type": "code",
      "source": [
        "Mat3=Mat2[1::2,1::2]"
      ],
      "metadata": {
        "id": "CnVeHgjebTrU"
      },
      "execution_count": null,
      "outputs": []
    },
    {
      "cell_type": "markdown",
      "source": [
        "### Zadanie 7\n",
        "Utwórz tablicę\n",
        "\n",
        "$$\n",
        "\\begin{bmatrix}\n",
        "1&2&3&4\\\\\n",
        "5&6&7&8 \\\\\n",
        "9&10&11&12\\\\\n",
        "13&14&15&16\n",
        "\\end{bmatrix}\n",
        "$$"
      ],
      "metadata": {
        "id": "Vy58FY1cbTx6"
      }
    },
    {
      "cell_type": "code",
      "source": [
        "import numpy as np\n",
        "\n",
        "A = np.arange(1,17).reshape(4,4)\n",
        "A"
      ],
      "metadata": {
        "id": "AVlB7UNobXwX",
        "colab": {
          "base_uri": "https://localhost:8080/"
        },
        "outputId": "175730e9-1642-4755-944e-580559f99e83"
      },
      "execution_count": 8,
      "outputs": [
        {
          "output_type": "execute_result",
          "data": {
            "text/plain": [
              "array([[ 1,  2,  3,  4],\n",
              "       [ 5,  6,  7,  8],\n",
              "       [ 9, 10, 11, 12],\n",
              "       [13, 14, 15, 16]])"
            ]
          },
          "metadata": {},
          "execution_count": 8
        }
      ]
    },
    {
      "cell_type": "markdown",
      "source": [
        "Inne przydatne funkcje:\n",
        "\n",
        "* łączenie macierzy ```np.concatenate((tab1,tab2),argumenty)```\n",
        "* rozdzielanie macierzy ```np.array_split(tab1, \\<liczba czesci\\>)```\n",
        "* wybieranie indeksów spełniających logiczny warunek: ```np.where(tab1>0)```\n",
        "* sortowanie ```np.sort(tab1)```"
      ],
      "metadata": {
        "id": "C-gMBsIvbYEl"
      }
    },
    {
      "cell_type": "code",
      "source": [
        "import numpy as np \n",
        "\n",
        "M = np.fromfunction(lambda i,j,k: 100+60*i+10*j+300*k, (5,6,3))\n",
        "M"
      ],
      "metadata": {
        "id": "7PtmO0jRba5v",
        "outputId": "530038d6-6b37-40c6-a731-0279abd04573",
        "colab": {
          "base_uri": "https://localhost:8080/"
        }
      },
      "execution_count": 16,
      "outputs": [
        {
          "output_type": "execute_result",
          "data": {
            "text/plain": [
              "array([[[100., 400., 700.],\n",
              "        [110., 410., 710.],\n",
              "        [120., 420., 720.],\n",
              "        [130., 430., 730.],\n",
              "        [140., 440., 740.],\n",
              "        [150., 450., 750.]],\n",
              "\n",
              "       [[160., 460., 760.],\n",
              "        [170., 470., 770.],\n",
              "        [180., 480., 780.],\n",
              "        [190., 490., 790.],\n",
              "        [200., 500., 800.],\n",
              "        [210., 510., 810.]],\n",
              "\n",
              "       [[220., 520., 820.],\n",
              "        [230., 530., 830.],\n",
              "        [240., 540., 840.],\n",
              "        [250., 550., 850.],\n",
              "        [260., 560., 860.],\n",
              "        [270., 570., 870.]],\n",
              "\n",
              "       [[280., 580., 880.],\n",
              "        [290., 590., 890.],\n",
              "        [300., 600., 900.],\n",
              "        [310., 610., 910.],\n",
              "        [320., 620., 920.],\n",
              "        [330., 630., 930.]],\n",
              "\n",
              "       [[340., 640., 940.],\n",
              "        [350., 650., 950.],\n",
              "        [360., 660., 960.],\n",
              "        [370., 670., 970.],\n",
              "        [380., 680., 980.],\n",
              "        [390., 690., 990.]]])"
            ]
          },
          "metadata": {},
          "execution_count": 16
        }
      ]
    },
    {
      "cell_type": "code",
      "source": [
        "import numpy as np \n",
        "\n",
        "A = np.array([[1],[2]])\n",
        "B = np.array([[3,4]])\n",
        "\n",
        "C = 3*np.ones((2,2))\n",
        "D = 2*np.ones((2,2))\n",
        "\n",
        "E = np.random.random(100) \n",
        "\n",
        "F = np.arange(1,17).reshape(4,4)\n",
        "x = np.array([1,2,3,4])\n",
        "y = np.array([0,4,1,6])\n",
        "\n"
      ],
      "metadata": {
        "id": "V7SnQk9Uba8z",
        "outputId": "c783cfaa-3cab-456e-db91-843cbd48d066",
        "colab": {
          "base_uri": "https://localhost:8080/"
        }
      },
      "execution_count": 29,
      "outputs": [
        {
          "output_type": "execute_result",
          "data": {
            "text/plain": [
              "(array([1, 3]),)"
            ]
          },
          "metadata": {},
          "execution_count": 29
        }
      ]
    },
    {
      "cell_type": "code",
      "source": [
        "import numpy as np \n",
        "from numpy.linalg import inv, eig\n",
        "\n",
        "\n",
        "A = np.array([[2,3],[0,2]])\n",
        "B = np.array([[2,5],[3,8]])\n",
        "\n",
        "C = B @ A @ inv(B)\n",
        "eig(C)[0]"
      ],
      "metadata": {
        "id": "6CQzPsu1ba_P",
        "outputId": "61d64935-2246-4235-bc08-f9c8fff3f3e7",
        "colab": {
          "base_uri": "https://localhost:8080/"
        }
      },
      "execution_count": 37,
      "outputs": [
        {
          "output_type": "execute_result",
          "data": {
            "text/plain": [
              "array([2.+3.41915903e-07j, 2.-3.41915903e-07j])"
            ]
          },
          "metadata": {},
          "execution_count": 37
        }
      ]
    },
    {
      "cell_type": "code",
      "source": [
        ""
      ],
      "metadata": {
        "id": "Blf2a6yxbbB_"
      },
      "execution_count": null,
      "outputs": []
    },
    {
      "cell_type": "markdown",
      "source": [
        ""
      ],
      "metadata": {
        "id": "SVZoI8zWbbJt"
      }
    }
  ]
}