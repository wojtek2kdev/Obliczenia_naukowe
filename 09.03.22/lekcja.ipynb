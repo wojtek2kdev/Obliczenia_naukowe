{
  "nbformat": 4,
  "nbformat_minor": 0,
  "metadata": {
    "colab": {
      "name": "lekcja.ipynb",
      "provenance": [],
      "authorship_tag": "ABX9TyOrGdLlYwTuhJlHaeIhdjCm",
      "include_colab_link": true
    },
    "kernelspec": {
      "name": "python3",
      "display_name": "Python 3"
    },
    "language_info": {
      "name": "python"
    }
  },
  "cells": [
    {
      "cell_type": "markdown",
      "metadata": {
        "id": "view-in-github",
        "colab_type": "text"
      },
      "source": [
        "<a href=\"https://colab.research.google.com/github/wojtek2kdev/Obliczenia_naukowe/blob/main/09.03.22/lekcja.ipynb\" target=\"_parent\"><img src=\"https://colab.research.google.com/assets/colab-badge.svg\" alt=\"Open In Colab\"/></a>"
      ]
    },
    {
      "cell_type": "code",
      "execution_count": 8,
      "metadata": {
        "colab": {
          "base_uri": "https://localhost:8080/"
        },
        "id": "QwL0j1W_aadj",
        "outputId": "7c18d09e-531d-45d1-e1e1-2c09daa809c4"
      },
      "outputs": [
        {
          "output_type": "stream",
          "name": "stdout",
          "text": [
            "imie -> Jan\n",
            "nazwisko -> kowalski\n",
            "wiek -> 25\n",
            "wzrost -> 188\n",
            "waga -> 80\n",
            "miasto -> Toruń\n"
          ]
        },
        {
          "output_type": "execute_result",
          "data": {
            "text/plain": [
              "{'imie': 'Jan',\n",
              " 'nazwisko': 'kowalski',\n",
              " 'waga': 80,\n",
              " 'wiek': 25,\n",
              " 'wynik matury': 87,\n",
              " 'wzrost': 182}"
            ]
          },
          "metadata": {},
          "execution_count": 8
        }
      ],
      "source": [
        "student = {'imie':'Jan', 'nazwisko':'kowalski','wiek':25, 'wzrost':188, 'waga':80, 'miasto':'Toruń'}\n",
        "\n",
        "for k,v in student.items():\n",
        "  print(f\"{k} -> {v}\")\n",
        "\n",
        "student[\"wzrost\"] = 182\n",
        "student[\"wynik matury\"] = 87\n",
        "del student[\"miasto\"]\n",
        "\n",
        "student"
      ]
    },
    {
      "cell_type": "code",
      "source": [
        "klucze=['klucz1','klucz2','inny klucz', 'test'] \n",
        "wartosci=[1,2,5,1]\n",
        "\n",
        "D = dict(zip(klucze, wartosci))\n",
        "D"
      ],
      "metadata": {
        "colab": {
          "base_uri": "https://localhost:8080/"
        },
        "id": "Oe--5e03bpaU",
        "outputId": "e538046e-d866-48ed-b066-4e900428b9bc"
      },
      "execution_count": 10,
      "outputs": [
        {
          "output_type": "execute_result",
          "data": {
            "text/plain": [
              "{'inny klucz': 5, 'klucz1': 1, 'klucz2': 2, 'test': 1}"
            ]
          },
          "metadata": {},
          "execution_count": 10
        }
      ]
    },
    {
      "cell_type": "code",
      "source": [
        "from functools import lru_cache\n",
        "def a(k):\n",
        "  return 1 if not k else 2*a(k-1)\n",
        "\n",
        "@lru_cache(maxsize=None)\n",
        "def b(k):\n",
        "  return k if k<2 else b(k-1)+b(k-2)\n",
        "\n",
        "b(123)\n"
      ],
      "metadata": {
        "colab": {
          "base_uri": "https://localhost:8080/"
        },
        "id": "3qBUX7MafNlB",
        "outputId": "7e1765c3-a1fe-412d-f2fd-ac58faf19d0b"
      },
      "execution_count": 26,
      "outputs": [
        {
          "output_type": "execute_result",
          "data": {
            "text/plain": [
              "22698374052006863956975682"
            ]
          },
          "metadata": {},
          "execution_count": 26
        }
      ]
    },
    {
      "cell_type": "code",
      "source": [
        "from sympy import symbols, sin, cos, simplify\n",
        "\n",
        "x,y = symbols(\"x,y\")\n",
        "expr = sin(x)**2 + cos(x)**2\n",
        "simplify(expr)"
      ],
      "metadata": {
        "colab": {
          "base_uri": "https://localhost:8080/",
          "height": 37
        },
        "id": "SXZM4gT8gr14",
        "outputId": "86e9c593-c606-4498-c224-b511258ed294"
      },
      "execution_count": 30,
      "outputs": [
        {
          "output_type": "execute_result",
          "data": {
            "text/latex": "$\\displaystyle 1$",
            "text/plain": [
              "1"
            ]
          },
          "metadata": {},
          "execution_count": 30
        }
      ]
    },
    {
      "cell_type": "code",
      "source": [
        "from sympy import symbols, solve, sin, pi\n",
        "\n",
        "x = symbols(\"x\")\n",
        "s1 = solve(2*x - 5)\n",
        "\n",
        "a = (x**2 + 5*x + 3).subs(x,1)\n",
        "b = sin(pi/2).evalf()"
      ],
      "metadata": {
        "colab": {
          "base_uri": "https://localhost:8080/",
          "height": 37
        },
        "id": "0xLtPhMLjuWe",
        "outputId": "48bd039c-923f-454a-a5d8-626a24baa163"
      },
      "execution_count": 41,
      "outputs": [
        {
          "output_type": "execute_result",
          "data": {
            "text/latex": "$\\displaystyle 1.0$",
            "text/plain": [
              "1.00000000000000"
            ]
          },
          "metadata": {},
          "execution_count": 41
        }
      ]
    },
    {
      "cell_type": "code",
      "source": [
        "from sympy import symbols, Function, dsolve, diff\n",
        "\n",
        "f = Function(\"f\")\n",
        "ode_sol = dsolve(diff(f(x)) - f(x))"
      ],
      "metadata": {
        "colab": {
          "base_uri": "https://localhost:8080/",
          "height": 38
        },
        "id": "FKg7FwzqkdCO",
        "outputId": "ee10f1d2-b828-4bc2-f679-cb54e01690d5"
      },
      "execution_count": 48,
      "outputs": [
        {
          "output_type": "execute_result",
          "data": {
            "text/latex": "$\\displaystyle f{\\left(x \\right)} = C_{1} e^{x}$",
            "text/plain": [
              "Eq(f(x), C1*exp(x))"
            ]
          },
          "metadata": {},
          "execution_count": 48
        }
      ]
    },
    {
      "cell_type": "code",
      "source": [
        "from sympy import symbols, Function, integrate\n",
        "\n",
        "x = symbols(\"x\")\n",
        "integrate(x**2 + 3*x, (x,0,1))"
      ],
      "metadata": {
        "colab": {
          "base_uri": "https://localhost:8080/",
          "height": 51
        },
        "id": "19ARQMnSmIAO",
        "outputId": "1739619c-07df-4206-a5eb-d6b68e5d7b39"
      },
      "execution_count": 51,
      "outputs": [
        {
          "output_type": "execute_result",
          "data": {
            "text/latex": "$\\displaystyle \\frac{11}{6}$",
            "text/plain": [
              "11/6"
            ]
          },
          "metadata": {},
          "execution_count": 51
        }
      ]
    },
    {
      "cell_type": "code",
      "source": [
        "from sympy import symbols, plot\n",
        "\n",
        "x = symbols(\"x\")\n",
        "plot(x**2 - 2*x + 1)"
      ],
      "metadata": {
        "colab": {
          "base_uri": "https://localhost:8080/",
          "height": 313
        },
        "id": "MGCgpE0ym9-d",
        "outputId": "71a41144-7f7c-493f-840b-b4f76a0c9233"
      },
      "execution_count": 53,
      "outputs": [
        {
          "output_type": "display_data",
          "data": {
            "image/png": "[encoded data removed]",
            "text/plain": [
              "<Figure size 432x288 with 1 Axes>"
            ]
          },
          "metadata": {
            "needs_background": "light"
          }
        },
        {
          "output_type": "execute_result",
          "data": {
            "text/plain": [
              "<sympy.plotting.plot.Plot at 0x7fda94503510>"
            ]
          },
          "metadata": {},
          "execution_count": 53
        }
      ]
    },
    {
      "cell_type": "code",
      "source": [
        "from sympy import symbols, limit, Function, exp\n",
        "\n",
        "def pochodna(f, p):\n",
        "  h = symbols(\"h\")\n",
        "  return limit((f(x) - f(x))/h, h, 0)\n",
        "\n",
        "x = symbols(\"x\")\n",
        "pochodna(exp(x), 1)"
      ],
      "metadata": {
        "colab": {
          "base_uri": "https://localhost:8080/",
          "height": 321
        },
        "id": "3KGkIgH2ncd8",
        "outputId": "43555114-b0c1-4eb7-9654-cff17ae30748"
      },
      "execution_count": 67,
      "outputs": [
        {
          "output_type": "error",
          "ename": "TypeError",
          "evalue": "ignored",
          "traceback": [
            "\u001b[0;31m---------------------------------------------------------------------------\u001b[0m",
            "\u001b[0;31mTypeError\u001b[0m                                 Traceback (most recent call last)",
            "\u001b[0;32m<ipython-input-67-5772c552b49e>\u001b[0m in \u001b[0;36m<module>\u001b[0;34m()\u001b[0m\n\u001b[1;32m      6\u001b[0m \u001b[0;34m\u001b[0m\u001b[0m\n\u001b[1;32m      7\u001b[0m \u001b[0mx\u001b[0m \u001b[0;34m=\u001b[0m \u001b[0msymbols\u001b[0m\u001b[0;34m(\u001b[0m\u001b[0;34m\"x\"\u001b[0m\u001b[0;34m)\u001b[0m\u001b[0;34m\u001b[0m\u001b[0;34m\u001b[0m\u001b[0m\n\u001b[0;32m----> 8\u001b[0;31m \u001b[0mpochodna\u001b[0m\u001b[0;34m(\u001b[0m\u001b[0mexp\u001b[0m\u001b[0;34m(\u001b[0m\u001b[0mx\u001b[0m\u001b[0;34m)\u001b[0m\u001b[0;34m,\u001b[0m \u001b[0;36m1\u001b[0m\u001b[0;34m)\u001b[0m\u001b[0;34m\u001b[0m\u001b[0;34m\u001b[0m\u001b[0m\n\u001b[0m",
            "\u001b[0;32m<ipython-input-67-5772c552b49e>\u001b[0m in \u001b[0;36mpochodna\u001b[0;34m(f, p)\u001b[0m\n\u001b[1;32m      3\u001b[0m \u001b[0;32mdef\u001b[0m \u001b[0mpochodna\u001b[0m\u001b[0;34m(\u001b[0m\u001b[0mf\u001b[0m\u001b[0;34m,\u001b[0m \u001b[0mp\u001b[0m\u001b[0;34m)\u001b[0m\u001b[0;34m:\u001b[0m\u001b[0;34m\u001b[0m\u001b[0;34m\u001b[0m\u001b[0m\n\u001b[1;32m      4\u001b[0m   \u001b[0mh\u001b[0m \u001b[0;34m=\u001b[0m \u001b[0msymbols\u001b[0m\u001b[0;34m(\u001b[0m\u001b[0;34m\"h\"\u001b[0m\u001b[0;34m)\u001b[0m\u001b[0;34m\u001b[0m\u001b[0;34m\u001b[0m\u001b[0m\n\u001b[0;32m----> 5\u001b[0;31m   \u001b[0;32mreturn\u001b[0m \u001b[0mlimit\u001b[0m\u001b[0;34m(\u001b[0m\u001b[0;34m(\u001b[0m\u001b[0mf\u001b[0m\u001b[0;34m(\u001b[0m\u001b[0mx\u001b[0m\u001b[0;34m)\u001b[0m \u001b[0;34m-\u001b[0m \u001b[0mf\u001b[0m\u001b[0;34m(\u001b[0m\u001b[0mx\u001b[0m\u001b[0;34m)\u001b[0m\u001b[0;34m)\u001b[0m\u001b[0;34m/\u001b[0m\u001b[0mh\u001b[0m\u001b[0;34m,\u001b[0m \u001b[0mh\u001b[0m\u001b[0;34m,\u001b[0m \u001b[0;36m0\u001b[0m\u001b[0;34m)\u001b[0m\u001b[0;34m\u001b[0m\u001b[0;34m\u001b[0m\u001b[0m\n\u001b[0m\u001b[1;32m      6\u001b[0m \u001b[0;34m\u001b[0m\u001b[0m\n\u001b[1;32m      7\u001b[0m \u001b[0mx\u001b[0m \u001b[0;34m=\u001b[0m \u001b[0msymbols\u001b[0m\u001b[0;34m(\u001b[0m\u001b[0;34m\"x\"\u001b[0m\u001b[0;34m)\u001b[0m\u001b[0;34m\u001b[0m\u001b[0;34m\u001b[0m\u001b[0m\n",
            "\u001b[0;31mTypeError\u001b[0m: 'exp' object is not callable"
          ]
        }
      ]
    },
    {
      "cell_type": "code",
      "source": [
        ""
      ],
      "metadata": {
        "id": "mn8u0wrmoou8"
      },
      "execution_count": null,
      "outputs": []
    }
  ]
}