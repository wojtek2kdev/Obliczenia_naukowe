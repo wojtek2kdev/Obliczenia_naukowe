{
  "nbformat": 4,
  "nbformat_minor": 0,
  "metadata": {
    "colab": {
      "name": "lekcja.ipynb",
      "provenance": [],
      "authorship_tag": "ABX9TyMy0Y53pCyu/8uSxg0HXZ42",
      "include_colab_link": true
    },
    "kernelspec": {
      "name": "python3",
      "display_name": "Python 3"
    },
    "language_info": {
      "name": "python"
    }
  },
  "cells": [
    {
      "cell_type": "markdown",
      "metadata": {
        "id": "view-in-github",
        "colab_type": "text"
      },
      "source": [
        "<a href=\"https://colab.research.google.com/github/wojtek2kdev/Obliczenia_naukowe/blob/main/02.03.22/lekcja.ipynb\" target=\"_parent\"><img src=\"https://colab.research.google.com/assets/colab-badge.svg\" alt=\"Open In Colab\"/></a>"
      ]
    },
    {
      "cell_type": "code",
      "source": [
        "def f(x):\n",
        "  return x+5\n",
        "\n",
        "def g(x, n=2):\n",
        "  return x**n"
      ],
      "metadata": {
        "colab": {
          "base_uri": "https://localhost:8080/"
        },
        "id": "YKW70VEzZgTT",
        "outputId": "3e011b89-5186-4a92-ed45-aaf71bdfde26"
      },
      "execution_count": 7,
      "outputs": [
        {
          "output_type": "execute_result",
          "data": {
            "text/plain": [
              "125"
            ]
          },
          "metadata": {},
          "execution_count": 7
        }
      ]
    },
    {
      "cell_type": "code",
      "source": [
        "T = [1,\"fddf\",3,4,True,2]\n",
        "list(reversed(sorted([1,3,2,4,1,2,3])))"
      ],
      "metadata": {
        "colab": {
          "base_uri": "https://localhost:8080/"
        },
        "id": "D-9f9ggadjs8",
        "outputId": "d3111cf5-fad8-49e5-c582-9fca043e371f"
      },
      "execution_count": 22,
      "outputs": [
        {
          "output_type": "execute_result",
          "data": {
            "text/plain": [
              "[4, 3, 3, 2, 2, 1, 1]"
            ]
          },
          "metadata": {},
          "execution_count": 22
        }
      ]
    },
    {
      "cell_type": "code",
      "source": [
        "list(range(0, -16, -3))"
      ],
      "metadata": {
        "colab": {
          "base_uri": "https://localhost:8080/"
        },
        "id": "aSoe-b4zfeBT",
        "outputId": "730c900f-488e-441d-a2f1-093254b1ec2f"
      },
      "execution_count": 24,
      "outputs": [
        {
          "output_type": "execute_result",
          "data": {
            "text/plain": [
              "[0, -3, -6, -9, -12, -15]"
            ]
          },
          "metadata": {},
          "execution_count": 24
        }
      ]
    },
    {
      "cell_type": "code",
      "source": [
        "L = [1,3,5,7,8,10]\n",
        "a = [n**2 for n in L]\n",
        "b = [n/(n-2) for n in L]\n",
        "c = [n for n in L if not n%3]\n",
        "print(a,b,c)\n"
      ],
      "metadata": {
        "colab": {
          "base_uri": "https://localhost:8080/"
        },
        "id": "rrRHy2Aoi-xe",
        "outputId": "d54e7e35-f509-41f7-a961-57e6ef03e23c"
      },
      "execution_count": 25,
      "outputs": [
        {
          "output_type": "stream",
          "name": "stdout",
          "text": [
            "[1, 9, 25, 49, 64, 100] [-1.0, 3.0, 1.6666666666666667, 1.4, 1.3333333333333333, 1.25] [3]\n"
          ]
        }
      ]
    },
    {
      "cell_type": "code",
      "source": [
        "L = [1,3,5,7,8,10]\n",
        "a = list(map(lambda n: n**2, L))\n",
        "b = list(map(lambda n: n/(n-2), L))\n",
        "c = list(filter(lambda n: not n%3, L))\n",
        "print(a,b,c)"
      ],
      "metadata": {
        "colab": {
          "base_uri": "https://localhost:8080/"
        },
        "id": "AC-hEUq2m92Y",
        "outputId": "0cdc349b-446c-4d7e-a737-e3d6bc69c701"
      },
      "execution_count": 29,
      "outputs": [
        {
          "output_type": "stream",
          "name": "stdout",
          "text": [
            "[1, 9, 25, 49, 64, 100] [-1.0, 3.0, 1.6666666666666667, 1.4, 1.3333333333333333, 1.25] [3]\n"
          ]
        }
      ]
    },
    {
      "cell_type": "code",
      "source": [
        "S = {\"pies\"}\n",
        "S -= {\"pies\"}\n",
        "S |= {\"kot\"}\n",
        "print(S)"
      ],
      "metadata": {
        "colab": {
          "base_uri": "https://localhost:8080/"
        },
        "id": "PPuWdnObnM7f",
        "outputId": "e8eb5657-d364-4879-8ccc-a01375ed95f3"
      },
      "execution_count": 35,
      "outputs": [
        {
          "output_type": "stream",
          "name": "stdout",
          "text": [
            "{'kot'}\n"
          ]
        }
      ]
    },
    {
      "cell_type": "code",
      "source": [
        ""
      ],
      "metadata": {
        "id": "4fNr9Bavpqfd"
      },
      "execution_count": null,
      "outputs": []
    }
  ]
}